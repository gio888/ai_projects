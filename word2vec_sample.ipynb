{
  "nbformat": 4,
  "nbformat_minor": 0,
  "metadata": {
    "colab": {
      "name": "word2vec_sample.ipynb",
      "provenance": []
    },
    "kernelspec": {
      "name": "python3",
      "display_name": "Python 3"
    }
  },
  "cells": [
    {
      "cell_type": "code",
      "metadata": {
        "id": "Y1P60I34dOVf"
      },
      "source": [
        "from gensim.test.utils import common_texts\n",
        "from gensim.models import Word2Vec\n",
        "\n",
        "model = Word2Vec(sentences=common_texts, window=5, min_count=1, workers=4)\n",
        "model.save(\"word2vec.model\")"
      ],
      "execution_count": 7,
      "outputs": []
    },
    {
      "cell_type": "code",
      "metadata": {
        "id": "wgEY7PmiekG8"
      },
      "source": [
        "model = Word2Vec.load(\"word2vec.model\")"
      ],
      "execution_count": 8,
      "outputs": []
    },
    {
      "cell_type": "code",
      "metadata": {
        "id": "55g5C8D8ev_b"
      },
      "source": [
        "vector = model.wv['computer']  # get numpy vector of a word"
      ],
      "execution_count": 9,
      "outputs": []
    },
    {
      "cell_type": "code",
      "metadata": {
        "id": "hGqiWw9Oe3qI",
        "outputId": "55e05a04-873f-4626-87b2-9f476cc4d120",
        "colab": {
          "base_uri": "https://localhost:8080/"
        }
      },
      "source": [
        "print(model.wv['computer'])"
      ],
      "execution_count": 11,
      "outputs": [
        {
          "output_type": "stream",
          "text": [
            "[ 4.2169606e-03 -4.4258530e-03 -2.3729410e-03 -9.2630170e-04\n",
            " -2.5315604e-03 -1.1849351e-03  1.5095461e-03 -3.8128486e-03\n",
            " -5.8740930e-04  1.1940213e-03  8.3873885e-05 -3.3459999e-03\n",
            "  1.6064383e-03 -2.0649072e-03  2.5355120e-03 -1.7547003e-03\n",
            " -5.9106830e-04 -3.9615110e-03  3.4595733e-03 -1.7622118e-03\n",
            "  3.5419334e-03  8.2990376e-04 -1.1849495e-03 -4.4482886e-03\n",
            "  3.2561603e-03 -2.4154095e-03 -1.7492523e-03 -2.4506073e-03\n",
            "  3.6087011e-03  3.4244682e-04  4.1855602e-03  1.2169020e-03\n",
            "  3.5820964e-03 -6.8743213e-04  4.8616616e-04 -3.0659407e-03\n",
            "  2.7713848e-03  2.0170787e-03 -5.7199254e-04  3.5998269e-03\n",
            " -3.8244308e-03  2.5656121e-03 -1.3878960e-03  8.8537869e-04\n",
            " -2.5598232e-03 -1.2650274e-03  1.9798123e-03 -6.4354314e-04\n",
            " -3.1754088e-03 -6.0971586e-05 -4.1193976e-03  4.6758247e-03\n",
            "  4.4541671e-03 -4.5526866e-03 -2.0504617e-03  2.6234912e-03\n",
            " -3.7701987e-04  1.7175273e-03 -1.4151325e-03  2.4805558e-04\n",
            " -3.3304384e-03 -1.4239220e-03 -2.8068167e-03  3.3665982e-03\n",
            " -1.2149874e-03  3.8388264e-03  3.3789785e-03 -1.4345760e-03\n",
            " -2.2412501e-03  9.9577010e-04 -2.4406239e-03  1.3895457e-03\n",
            " -3.2409518e-03  2.4457509e-03  2.3914503e-03 -3.5375878e-03\n",
            "  4.3581319e-03  3.4649896e-05 -1.6907229e-03  6.2991877e-04\n",
            "  1.1714533e-03  4.5028726e-05  2.6722199e-03 -1.9589341e-03\n",
            "  1.9591320e-03  2.3632275e-03  5.9717102e-04 -1.3356563e-03\n",
            " -4.5375009e-03 -1.2822106e-03  4.2905654e-03  2.0835972e-03\n",
            "  1.6078117e-03  1.1310390e-03  5.9864583e-04 -3.5329282e-04\n",
            " -5.0568796e-04  4.2085646e-04  2.8063939e-03  2.0581675e-03]\n"
          ],
          "name": "stdout"
        }
      ]
    },
    {
      "cell_type": "code",
      "metadata": {
        "id": "bNCtpKyge6Pb"
      },
      "source": [
        ""
      ],
      "execution_count": null,
      "outputs": []
    }
  ]
}